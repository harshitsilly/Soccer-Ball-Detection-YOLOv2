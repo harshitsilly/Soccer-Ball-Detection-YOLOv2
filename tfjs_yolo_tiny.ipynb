{
  "nbformat": 4,
  "nbformat_minor": 0,
  "metadata": {
    "colab": {
      "name": "tfjs-yolo-tiny.ipynb",
      "version": "0.3.2",
      "views": {},
      "default_view": {},
      "provenance": []
    },
    "kernelspec": {
      "name": "python2",
      "display_name": "Python 2"
    }
  },
  "cells": [
    {
      "metadata": {
        "id": "os8XJ2dN6AEV",
        "colab_type": "text"
      },
      "cell_type": "markdown",
      "source": [
        "# Detect and Find Bounding Boxes for Objects in Your Images\n",
        "\n",
        "Use Tiny YOLO in Tensorflow.js to detect objects in your images right in your user's browser. No server-side ML infrastructure to set up and guarentee complete user privacy!\n",
        "\n",
        "\n",
        "# Prediction Examples:\n",
        "\n",
        "![detection demo](https://github.com/ModelDepot/tfjs-yolo-tiny/raw/master/assets/demo.gif)\n",
        "\n",
        "# How Good Is This Model?\n",
        "\n",
        "As far as we know, this is the only deep-learning based object detection library that can run in browsers (Javascript). This model achieves ~1fps on a Macbook Pro mid-2014 w/ i5 on Chrome. Check out the [live demo here](https://modeldepot.github.io/tfjs-yolo-tiny-demo/).\n",
        "\n",
        "## Misc\n",
        "\n",
        "This model was created from taking the original Darknet Tiny YOLO [cfg](https://github.com/pjreddie/darknet/blob/master/cfg/yolov2-tiny.cfg) and [weights](https://pjreddie.com/darknet/yolo/), converting it into Keras via [YAD2K](https://github.com/allanzelener/YAD2K), and then using [`tensorflowjs_converter`](https://js.tensorflow.org/tutorials/import-keras.html) to convert it into the Tensorflow.js format.\n",
        "\n",
        "You can also use Tiny YOLO v2 in real time inside your iOS apps. Download the [Core ML model](https://www.dropbox.com/s/6db396como0i9h9/yolov2_tiny.mlmodel?dl=0) converted by [Fritz](https://fritz.ai/) and add object detection to your app!\n",
        "\n",
        "## Installing tfjs-yolo-tiny\n",
        "```\n",
        "yarn add tfjs-yolo-tiny\n",
        "```\n",
        "\n",
        "## Import Module and Download Model\n",
        "\n",
        "Alternatively, you can pass in a model config path into `downloadModel` to use another Tiny YOLO pre-trained model.\n",
        "\n",
        "```javascript\n",
        "import yolo, { downloadModel } from 'tfjs-yolo-tiny';\n",
        "\n",
        "const model = await downloadModel();\n",
        "```\n",
        "\n",
        "## Capture Image From Webcam\n",
        "\n",
        "Use `tf.fromPixels` like from [webcam.js](https://github.com/tensorflow/tfjs-examples/blob/master/webcam-transfer-learning/webcam.js#L34-L50) to return a (1, 416, 416, 3) shape tf.Tensor.\n",
        "\n",
        "```javascript\n",
        "const inputImage = webcam.capture();\n",
        "```\n",
        "\n",
        "## Pass Image For Inference\n",
        "```javascript\n",
        "const boxes = await yolo(inputImage, model);\n",
        "```\n",
        "\n",
        "## Draw Resultant Bounding Boxes\n",
        "\n",
        "```javascript\n",
        "boxes.forEach(box => {\n",
        "  const {\n",
        "    top, left, bottom, right, classProb, className,\n",
        "  } = box;\n",
        "\n",
        "  drawRect(left, top, right-left, bottom-top, `${className} ${classProb}`)\n",
        "});\n",
        "```\n"
      ]
    }
  ]
}